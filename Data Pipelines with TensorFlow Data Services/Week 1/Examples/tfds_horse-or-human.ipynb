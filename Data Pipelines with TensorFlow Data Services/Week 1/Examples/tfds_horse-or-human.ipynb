{
  "metadata" : {
    "kernel_info": {
        "name" : "the name of the kernel"
    },
    "language_info": {
        "name" : "the programming language of the kernel",
        "version": "the version of the language",
        "codemirror_mode": "The name of the codemirror mode to use [optional]"
    }
  },
  "nbformat": 4,
  "nbformat_minor": 0,
  "cells" : [
  ],
}
