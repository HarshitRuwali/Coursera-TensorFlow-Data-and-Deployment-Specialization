{
  "cells": [
  {
      "cell_type": "code",
      "metadata": {
        "id": "zX4Kg8DUTKWO",
        "colab_type": "code",
        "colab": {}
      },
      "source": [
        "#@title Licensed under the Apache License, Version 2.0 (the \"License\");\n",
        "# you may not use this file except in compliance with the License.\n",
        "# You may obtain a copy of the License at\n",
        "#\n",
        "# https://www.apache.org/licenses/LICENSE-2.0\n",
        "#\n",
        "# Unless required by applicable law or agreed to in writing, software\n",
        "# distributed under the License is distributed on an \"AS IS\" BASIS,\n",
        "# WITHOUT WARRANTIES OR CONDITIONS OF ANY KIND, either express or implied.\n",
        "# See the License for the specific language governing permissions and\n",
        "# limitations under the License."
      ],
      "execution_count": 0,
      "outputs": []
    },
    {
      "cell_type": "markdown",
      "metadata": {
        "colab_type": "text",
        "id": "HKpNHJUklgmV"
      },
      "source": [
        "##### Copyright 2019 The TensorFlow Authors."
      ]
    },
    {
      "cell_type": "code",
      "execution_count": null,
      "metadata": {
        "cellView": "form",
        "colab": {},
        "colab_type": "code",
        "id": "rVYfUz6plf-E"
      },
      "outputs": [],
      "source": [
        "#@title Licensed under the Apache License, Version 2.0 (the \"License\");\n",
        "# you may not use this file except in compliance with the License.\n",
        "# You may obtain a copy of the License at\n",
        "#\n",
        "# https://www.apache.org/licenses/LICENSE-2.0\n",
        "#\n",
        "# Unless required by applicable law or agreed to in writing, software\n",
        "# distributed under the License is distributed on an \"AS IS\" BASIS,\n",
        "# WITHOUT WARRANTIES OR CONDITIONS OF ANY KIND, either express or implied.\n",
        "# See the License for the specific language governing permissions and\n",
        "# limitations under the License."
      ]
    },
    {
      "cell_type": "markdown",
      "metadata": {
        "colab_type": "text",
        "id": "z43VJvxa8HOX"
      },
      "source": [
        "# Getting Started with TensorFlow Hub\n",
        "\n",
        "[TensorFlow Hub](https://tfhub.dev/) is a repository of reusable TensorFlow machine learning modules. A module is a self-contained piece of a TensorFlow graph, along with its weights and assets, that can be reused across different tasks. These modules can be reused to solve new tasks with less training data, diminishing training time. \n",
        "\n",
        "In this notebook we will go over some basic examples to help you get started with TensorFlow Hub. In particular, we will cover the following topics:\n",
        "\n",
        "* Loading TensorFlow Hub Modules and Performing Inference.\n",
        "\n",
        "* Using TensorFlow Hub Modules with Keras.\n",
        "\n",
        "* Using Feature Vectors with Keras for Transfer Learning.\n",
        "\n",
        "* Saving and Running a TensorFlow Hub Module Locally.\n",
        "\n",
        "* Changing the Download Location of TensorFlow Hub Modules. "
      ]
    },
    {
      "cell_type": "markdown",
      "metadata": {
        "colab_type": "text",
        "id": "YkSgkrJqqnHt"
      },
      "source": [
        "<table class=\"tfo-notebook-buttons\" align=\"left\">\n",
        "  <td>\n",
        "    <a target=\"_blank\" href=\"https://colab.research.google.com/github/lmoroney/dlaicourse/blob/master/TensorFlow%20Deployment/Course%204%20-%20TensorFlow%20Serving/Week%202/Examples/tfhub_basic_examples.ipynb\">\n",
        "    <img src=\"https://www.tensorflow.org/images/colab_logo_32px.png\" />\n",
        "    Run in Google Colab</a>\n",
        "  </td>\n",
        "  <td>\n",
        "    <a target=\"_blank\" href=\"https://github.com/lmoroney/dlaicourse/blob/master/TensorFlow%20Deployment/Course%204%20-%20TensorFlow%20Serving/Week%202/Examples/tfhub_basic_examples.ipynb\">\n",
        "    <img src=\"https://www.tensorflow.org/images/GitHub-Mark-32px.png\" />\n",
        "    View source on GitHub</a>\n",
        "  </td>\n",
        "</table>"
      ]
    },
    {
      "cell_type": "markdown",
      "metadata": {
        "colab_type": "text",
        "id": "pwT2KTfqf0TS"
      },
      "source": [
        "## Setup"
      ]
    },
    {
      "cell_type": "code",
      "execution_count": null,
      "metadata": {
        "colab": {
          "base_uri": "https://localhost:8080/",
          "height": 34
        },
        "colab_type": "code",
        "id": "Ui_ybeBYf0TT",
        "outputId": "82ad9b67-0c0b-4dad-a203-b2e8381aebe0"
      },
      "outputs": [],
      "source": [
        "try:\n",
        "    %tensorflow_version 2.x\n",
        "except:\n",
        "    pass"
      ]
    },
    {
      "cell_type": "code",
      "execution_count": null,
      "metadata": {
        "colab": {
          "base_uri": "https://localhost:8080/",
          "height": 34
        },
        "colab_type": "code",
        "id": "amAqIJk4W_i_",
        "outputId": "0313724e-fa95-4fe4-f6d0-9ca825edcfa3"
      },
      "outputs": [],
      "source": [
        "import os\n",
        "import numpy as np\n",
        "import matplotlib.pyplot as plt\n",
        "\n",
        "import tensorflow as tf\n",
        "import tensorflow_hub as hub\n",
        "\n",
        "from PIL import Image\n",
        "\n",
        "\n",
        "print(\"\\u2022 Using TensorFlow Version:\", tf.__version__)"
      ]
    },
    {
      "cell_type": "markdown",
      "metadata": {
        "colab_type": "text",
        "id": "2fH5ftX6f0TZ"
      },
      "source": [
        "## Download Test Image\n",
        "\n",
        "We will download the image of a puppy to test our TensorFlow Hub modules."
      ]
    },
    {
      "cell_type": "code",
      "execution_count": null,
      "metadata": {
        "colab": {
          "base_uri": "https://localhost:8080/",
          "height": 204
        },
        "colab_type": "code",
        "id": "wHcJrF0HYy5O",
        "outputId": "679539e6-a0b1-421b-c37d-4604f737a4d8"
      },
      "outputs": [],
      "source": [
        "!wget -O dog.jpeg https://cdn.pixabay.com/photo/2016/12/13/05/15/puppy-1903313_960_720.jpg\n",
        "    \n",
        "original_image = Image.open('./dog.jpeg')"
      ]
    },
    {
      "cell_type": "markdown",
      "metadata": {
        "colab_type": "text",
        "id": "1dfkh03u7KUe"
      },
      "source": [
        "Let's take a look at the image we just downloaded."
      ]
    },
    {
      "cell_type": "code",
      "execution_count": null,
      "metadata": {
        "colab": {
          "base_uri": "https://localhost:8080/",
          "height": 275
        },
        "colab_type": "code",
        "id": "i2gkQ4OMf0Tc",
        "outputId": "8789b705-1da0-4922-dd86-eee487d54659"
      },
      "outputs": [],
      "source": [
        "plt.figure(figsize=(6,6))\n",
        "plt.imshow(original_image)\n",
        "plt.show()"
      ]
    },
    {
      "cell_type": "markdown",
      "metadata": {
        "colab_type": "text",
        "id": "6cdyKGtJ7gvi"
      },
      "source": [
        "## Format Image\n",
        "\n",
        "We will now resize and normalize our image so that is compatible with the module we are going to use. In this notebook we will use the [MobileNet](https://tfhub.dev/google/tf2-preview/mobilenet_v2/classification/4) model which was trained in ImageNet. For this module, the input images are expected to have color values in the range `[0,1]` and to have an input size of `(224,224)`."
      ]
    },
    {
      "cell_type": "code",
      "execution_count": null,
      "metadata": {
        "colab": {},
        "colab_type": "code",
        "id": "naIvQyXwf0Tf"
      },
      "outputs": [],
      "source": [
        "IMAGE_SIZE = (224, 224)\n",
        "    \n",
        "img = original_image.resize(IMAGE_SIZE)\n",
        "img = np.array(img) / 255.0"
      ]
    },
    {
      "cell_type": "markdown",
      "metadata": {
        "colab_type": "text",
        "id": "RVZGQmEu9tjK"
      },
      "source": [
        "Let's now plot the reformatted image, to see what it looks like."
      ]
    },
    {
      "cell_type": "code",
      "execution_count": null,
      "metadata": {
        "colab": {
          "base_uri": "https://localhost:8080/",
          "height": 338
        },
        "colab_type": "code",
        "id": "h56vUl319rhe",
        "outputId": "c9bf20f4-e060-460c-b3e1-c50a863bc7f5"
      },
      "outputs": [],
      "source": [
        "plt.figure(figsize=(5,5))\n",
        "plt.imshow(img)\n",
        "plt.title('New Image Size: {}'.format(img.shape), fontdict={'size': 16}, color='green')\n",
        "plt.show()"
      ]
    },
    {
      "cell_type": "markdown",
      "metadata": {
        "colab_type": "text",
        "id": "kywC4eUp8NHK"
      },
      "source": [
        "## Get ImageNet Labels\n",
        "\n",
        "We will now get the labels for all the 1001 classes in the ImageNet dataset."
      ]
    },
    {
      "cell_type": "code",
      "execution_count": null,
      "metadata": {
        "colab": {
          "base_uri": "https://localhost:8080/",
          "height": 51
        },
        "colab_type": "code",
        "id": "vN41_3uFZed1",
        "outputId": "c9471d5b-c341-4b9d-df49-5dfff32a5170"
      },
      "outputs": [],
      "source": [
        "!wget -O labels.txt --quiet https://storage.googleapis.com/download.tensorflow.org/data/ImageNetLabels.txt\n",
        "\n",
        "with open('labels.txt', 'r') as f:\n",
        "    labels = [l.strip() for l in f.readlines()]\n",
        "\n",
        "# get number of labels\n",
        "num_classes = len(labels)\n",
        "\n",
        "print('There are a total of {0} labels representing {0} classes.\\n'.format(num_classes))"
      ]
    },
    {
      "cell_type": "markdown",
      "metadata": {
        "colab_type": "text",
        "id": "z-xemFy9_hI2"
      },
      "source": [
        "Let's take a look at the first 5 labels. "
      ]
    },
    {
      "cell_type": "code",
      "execution_count": null,
      "metadata": {
        "colab": {
          "base_uri": "https://localhost:8080/",
          "height": 102
        },
        "colab_type": "code",
        "id": "eKo1E_JFgUFM",
        "outputId": "5f6d9b40-62c7-4558-9c48-f9010be09e03"
      },
      "outputs": [],
      "source": [
        "for label in labels[0:5]:\n",
        "    print(label)"
      ]
    },
    {
      "cell_type": "markdown",
      "metadata": {
        "colab_type": "text",
        "id": "b0f6ojXNf0Tk"
      },
      "source": [
        "## Loading a TensorFlow Hub Module\n",
        "\n",
        "To load a module, we use its unique **module handle**, which is just a URL string. To obtain the module handle, we have to browse through the catalog of modules in the [TensorFlow Hub](https://tfhub.dev/) website. \n",
        "\n",
        "For example, in this case, we will be using the complete **MobileNet** model. If we go to [MobileNet's webpage](https://tfhub.dev/google/tf2-preview/mobilenet_v2/classification/4) in the TensorFlow Hub website, we will see that the module handle for this module is:\n",
        "\n",
        "```\n",
        "'https://tfhub.dev/google/tf2-preview/mobilenet_v2/classification/4'\n",
        "```\n",
        "\n",
        "Finally, we'll make use of TensorFlow Hub's, `load` API to load the module into memory. "
      ]
    },
    {
      "cell_type": "code",
      "execution_count": null,
      "metadata": {
        "colab": {},
        "colab_type": "code",
        "id": "IeECgRwvf0Tl"
      },
      "outputs": [],
      "source": [
        "MODULE_HANDLE = 'https://tfhub.dev/google/tf2-preview/mobilenet_v2/classification/4'\n",
        "module = hub.load(MODULE_HANDLE)"
      ]
    },
    {
      "cell_type": "markdown",
      "metadata": {
        "colab_type": "text",
        "id": "7HXz7_Aqf0Tn"
      },
      "source": [
        "## Performing Inference\n",
        "\n",
        "Once we have loaded the module, we can then start running inference on it. Note however, that the module generates the final layer's logits without any activations. Therefore, we have to apply the `softmax` activation to the module's output. The result will be a Tensor of shape `(1, 1001)`, where the first dimension refers to the batch size. In this case it is just `1` because we only passed 1 image. \n",
        "\n",
        "In the cell below, we will pass the image of the puppy and get the top 5 predictions from our model along with their probability scores."
      ]
    },
    {
      "cell_type": "code",
      "execution_count": null,
      "metadata": {
        "colab": {
          "base_uri": "https://localhost:8080/",
          "height": 102
        },
        "colab_type": "code",
        "id": "iviLKe3sYmvu",
        "outputId": "0916b704-4754-4e93-ba7e-d0c5793d0988"
      },
      "outputs": [],
      "source": [
        "predictions = tf.nn.softmax(module([img]))[0]\n",
        "\n",
        "top_k_pred_values, top_k_indices = tf.math.top_k(predictions, k=5)\n",
        "\n",
        "top_k_pred_values = top_k_pred_values.numpy()\n",
        "top_k_indices = top_k_indices.numpy()\n",
        "\n",
        "for value, i in zip(top_k_pred_values, top_k_indices):\n",
        "    print('{}: {:.3}'.format(labels[i], value))"
      ]
    },
    {
      "cell_type": "markdown",
      "metadata": {
        "colab_type": "text",
        "id": "BpCrUAhM8Sa-"
      },
      "source": [
        "## Using a TensorFlow Hub Module with Keras\n",
        "\n",
        "We can also integrate TensorFlow Hub modules into the high level Keras API. In this case, we make use of the `hub.KerasLayer` API to load it. We can add the `hub.KerasLayer` to a Keras `sequential` model along with an activation layer. Once the model is built, all the Keras model methods can be accessed like you would normally do in Keras."
      ]
    },
    {
      "cell_type": "code",
      "execution_count": null,
      "metadata": {
        "colab": {},
        "colab_type": "code",
        "id": "UJ8gqfwVf0Tr"
      },
      "outputs": [],
      "source": [
        "model = tf.keras.Sequential([\n",
        "        hub.KerasLayer(MODULE_HANDLE,\n",
        "                       input_shape=IMAGE_SIZE + (3,)),\n",
        "        tf.keras.layers.Activation('softmax')\n",
        "])"
      ]
    },
    {
      "cell_type": "markdown",
      "metadata": {
        "colab_type": "text",
        "id": "V7etoiGVf0Tt"
      },
      "source": [
        "## Performing Inference\n",
        "\n",
        "To perform inference with the Keras model, we have to add a dimension to our image to account for the batch size. Remember that our Keras model expects the input to have shape `(batch_size, image_size)`, where the `image_size` includes the number of color channels."
      ]
    },
    {
      "cell_type": "code",
      "execution_count": null,
      "metadata": {
        "colab": {},
        "colab_type": "code",
        "id": "mstecPiRf0Tu"
      },
      "outputs": [],
      "source": [
        "# Add batch dimension\n",
        "img_arr = np.expand_dims(img, axis=0)"
      ]
    },
    {
      "cell_type": "markdown",
      "metadata": {
        "colab_type": "text",
        "id": "9lZY1656JAuY"
      },
      "source": [
        "As we did previously, in the cell below we will pass the image of the puppy and get the top 5 predictions from our Keras model along with their probability scores."
      ]
    },
    {
      "cell_type": "code",
      "execution_count": null,
      "metadata": {
        "colab": {
          "base_uri": "https://localhost:8080/",
          "height": 102
        },
        "colab_type": "code",
        "id": "pLpZLpgXf0Tw",
        "outputId": "1f69a9c1-7bc3-40ba-adc7-00118589f95f"
      },
      "outputs": [],
      "source": [
        "predictions = model.predict(img_arr)[0]\n",
        " \n",
        "top_k_pred_values, top_k_indices = tf.math.top_k(predictions, k=5)\n",
        "\n",
        "top_k_pred_values = top_k_pred_values.numpy()\n",
        "top_k_indices = top_k_indices.numpy()\n",
        "\n",
        "for value, i in zip(top_k_pred_values, top_k_indices):\n",
        "    print('{}: {:.3}'.format(labels[i], value))"
      ]
    },
    {
      "cell_type": "markdown",
      "metadata": {
        "colab_type": "text",
        "id": "FihuPGEiUdh7"
      },
      "source": [
        "# Using Feature Vectors with Keras\n",
        "\n",
        "While we can use complete models as we did in the previous section, perhaps, the most important part of TensorFlow Hub is in how it provides **Feature Vectors** that allows us to take advantage of transfer learning. Feature vectors are just complete modules that had their final classification head removed.\n",
        "\n",
        "In the cell below we show an example of how a feature vector can be added to a Keras `sequential` model."
      ]
    },
    {
      "cell_type": "code",
      "execution_count": null,
      "metadata": {
        "colab": {},
        "colab_type": "code",
        "id": "7bB4E3dnf0Tz"
      },
      "outputs": [],
      "source": [
        "MODULE_HANDLE =\"https://tfhub.dev/google/tf2-preview/mobilenet_v2/feature_vector/4\""
      ]
    },
    {
      "cell_type": "code",
      "execution_count": null,
      "metadata": {
        "colab": {},
        "colab_type": "code",
        "id": "_B3xMxdeUjMp"
      },
      "outputs": [],
      "source": [
        "# Number of classes in the new dataset\n",
        "NUM_CLASSES = 20\n",
        "\n",
        "model = tf.keras.Sequential([\n",
        "        hub.KerasLayer(MODULE_HANDLE,\n",
        "                       input_shape=IMAGE_SIZE + (3,)),\n",
        "        tf.keras.layers.Dense(NUM_CLASSES, activation='softmax')\n",
        "])"
      ]
    },
    {
      "cell_type": "markdown",
      "metadata": {
        "colab_type": "text",
        "id": "9OTNyXHvf0T7"
      },
      "source": [
        "Now that the model is built, the next step in transfer learning will be to train the model on a new dataset with the new classifier (i.e. the last layer of the model). Remember that the number of output units in the last layer will correspond to the number of classes in your new dataset. After the model has been trained, we can perform inference in the same way as with any Keras model (see previous section)."
      ]
    },
    {
      "cell_type": "markdown",
      "metadata": {
        "colab_type": "text",
        "id": "mLhxYyr-f0T8"
      },
      "source": [
        "# Saving a TensorFlow Hub Module for Local Use\n",
        "\n",
        "We can download TensorFlow Hub modules, by explicitly downloading the module as a **SavedModel** archived as a tarball. This is useful if we want to work with the module offline.\n",
        "\n",
        "To do this, we first have to download the Hub module by appending a query parameter to the module handled URL string. This is done by setting the TF Hub format query parameter as shown below. For now, only the compressed option is defined."
      ]
    },
    {
      "cell_type": "code",
      "execution_count": null,
      "metadata": {
        "colab": {
          "base_uri": "https://localhost:8080/",
          "height": 289
        },
        "colab_type": "code",
        "id": "JHLdCTUcf0T8",
        "outputId": "d820b080-5452-4300-b974-02bc30e4be20"
      },
      "outputs": [],
      "source": [
        "MODULE_HANDLE = 'https://tfhub.dev/google/tf2-preview/mobilenet_v2/classification/4?tf-hub-format=compressed'\n",
        "!wget -O ./saved_model.tar.gz $MODULE_HANDLE"
      ]
    },
    {
      "cell_type": "markdown",
      "metadata": {
        "colab_type": "text",
        "id": "AvPb67hkfZaP"
      },
      "source": [
        "Next, we need to decompress the tarball."
      ]
    },
    {
      "cell_type": "code",
      "execution_count": null,
      "metadata": {
        "colab": {
          "base_uri": "https://localhost:8080/",
          "height": 119
        },
        "colab_type": "code",
        "id": "UlIKzuHQf0T-",
        "outputId": "e4fe720a-1a80-43de-dc0d-ba29ea33e22d"
      },
      "outputs": [],
      "source": [
        "# Untar the tarball\n",
        "!mkdir -p ./saved_model\n",
        "!tar xvzf ./saved_model.tar.gz -C ./saved_model"
      ]
    },
    {
      "cell_type": "markdown",
      "metadata": {
        "colab_type": "text",
        "id": "GU1llWHpf0UA"
      },
      "source": [
        "# Running a TensorFlow Hub Module Locally\n",
        "\n",
        "We can load the SavedModel containing the saved TensorFlow Hub module by using `hub.load`."
      ]
    },
    {
      "cell_type": "code",
      "execution_count": null,
      "metadata": {
        "colab": {},
        "colab_type": "code",
        "id": "3IH9-d6MpzGf"
      },
      "outputs": [],
      "source": [
        "module = hub.load('./saved_model')"
      ]
    },
    {
      "cell_type": "markdown",
      "metadata": {
        "colab_type": "text",
        "id": "sx6m8Gh4p2Wk"
      },
      "source": [
        "After the TensorFlow Hub module is loaded, we can start making inferences as shown below. As before, we will pass the image of the puppy and get the top 5 predictions from our model along with their probability scores."
      ]
    },
    {
      "cell_type": "code",
      "execution_count": null,
      "metadata": {
        "colab": {
          "base_uri": "https://localhost:8080/",
          "height": 102
        },
        "colab_type": "code",
        "id": "7Udwudrof0UB",
        "outputId": "9808f21d-ae50-44d0-f4ea-94f9a6ba1427"
      },
      "outputs": [],
      "source": [
        "predictions = tf.nn.softmax(module([img]))[0]\n",
        "\n",
        "top_k_pred_values, top_k_indices = tf.math.top_k(predictions, k=5)\n",
        "\n",
        "top_k_pred_values = top_k_pred_values.numpy()\n",
        "top_k_indices = top_k_indices.numpy()\n",
        "\n",
        "for value, i in zip(top_k_pred_values, top_k_indices):\n",
        "    print('{}: {:.3}'.format(labels[i], value))"
      ]
    },
    {
      "cell_type": "markdown",
      "metadata": {
        "colab_type": "text",
        "id": "Mc1A0-E-wrp5"
      },
      "source": [
        "## Changing the Download Location of TensorFlow Hub Modules. \n",
        "\n",
        "Finally, we can change the download location of TensorFlow Hub modules to a more permanent location. We can do this by setting the environment variable `'TFHUB_CACHE_DIR'` to the directory we want our modules to be saved in. \n",
        "\n",
        "In Python, we can set this environment variable in the environment dictionary that's present in the Pythons `os` module as you can see below. "
      ]
    },
    {
      "cell_type": "code",
      "execution_count": null,
      "metadata": {
        "colab": {},
        "colab_type": "code",
        "id": "uD99XTD_o4u5"
      },
      "outputs": [],
      "source": [
        "new_dir = './hub_cache_dir'\n",
        "\n",
        "os.environ['TFHUB_CACHE_DIR'] = new_dir"
      ]
    },
    {
      "cell_type": "markdown",
      "metadata": {
        "colab_type": "text",
        "id": "nI7lMBOvq-TR"
      },
      "source": [
        "Once we set the new location of the TF Hub cache directory environment variable, all the subsequent modules that we request will get downloaded to that location. "
      ]
    },
    {
      "cell_type": "code",
      "execution_count": null,
      "metadata": {
        "colab": {},
        "colab_type": "code",
        "id": "TXXl3HVQf0UF"
      },
      "outputs": [],
      "source": [
        "MODULE_HANDLE = 'https://tfhub.dev/google/tf2-preview/mobilenet_v2/classification/4'\n",
        "module = hub.load(MODULE_HANDLE)"
      ]
    },
    {
      "cell_type": "markdown",
      "metadata": {
        "colab_type": "text",
        "id": "anBLXShXtp79"
      },
      "source": [
        "We can take a look the contents of the new directory and all its subdirectories by using the `-R` option."
      ]
    },
    {
      "cell_type": "code",
      "execution_count": null,
      "metadata": {
        "colab": {
          "base_uri": "https://localhost:8080/",
          "height": 204
        },
        "colab_type": "code",
        "id": "VW9djqDyrl3r",
        "outputId": "e0f61eda-1382-4e2f-82b1-001707577699"
      },
      "outputs": [],
      "source": [
        "!ls -R {new_dir}"
      ]
    }
  ],
  "metadata": {
    "accelerator": "GPU",
    "colab": {
      "collapsed_sections": [],
      "name": "tfhub_basic_examples.ipynb",
      "provenance": [],
      "toc_visible": true
    },
    "kernelspec": {
      "display_name": "Python 3",
      "language": "python",
      "name": "python3"
    },
    "language_info": {
      "codemirror_mode": {
        "name": "ipython",
        "version": 3
      },
      "file_extension": ".py",
      "mimetype": "text/x-python",
      "name": "python",
      "nbconvert_exporter": "python",
      "pygments_lexer": "ipython3",
      "version": "3.7.4"
    }
  },
  "nbformat": 4,
  "nbformat_minor": 1
}
